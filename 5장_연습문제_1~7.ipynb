{
  "cells": [
    {
      "cell_type": "markdown",
      "metadata": {
        "id": "view-in-github",
        "colab_type": "text"
      },
      "source": [
        "<a href=\"https://colab.research.google.com/github/hyunjilee7/BP_10_Ch5/blob/main/5%EC%9E%A5_%EC%97%B0%EC%8A%B5%EB%AC%B8%EC%A0%9C_1~7.ipynb\" target=\"_parent\"><img src=\"https://colab.research.google.com/assets/colab-badge.svg\" alt=\"Open In Colab\"/></a>"
      ]
    },
    {
      "cell_type": "code",
      "source": [
        "age=20\n",
        "if age<20:\n",
        "  print('20살 미만')\n",
        "else:\n",
        "  print('20살 이상')"
      ],
      "metadata": {
        "colab": {
          "base_uri": "https://localhost:8080/"
        },
        "id": "8Rp5I12E3dzE",
        "outputId": "86c69e31-4ca3-4689-8cfb-eb29ab467a54"
      },
      "execution_count": null,
      "outputs": [
        {
          "output_type": "stream",
          "name": "stdout",
          "text": [
            "20살 이상\n"
          ]
        }
      ]
    },
    {
      "cell_type": "code",
      "source": [
        "age=35\n",
        "if age>=30 and age<=50:\n",
        "  print('30살 이상이고 50살 이하')"
      ],
      "metadata": {
        "colab": {
          "base_uri": "https://localhost:8080/"
        },
        "id": "TT7PtN8Z5avq",
        "outputId": "c39d10d3-c376-46fe-8e56-8d5a65f961a4"
      },
      "execution_count": null,
      "outputs": [
        {
          "output_type": "stream",
          "name": "stdout",
          "text": [
            "30살 이상이고 50살 이하\n"
          ]
        }
      ]
    },
    {
      "cell_type": "code",
      "source": [
        "temp=int(input(\"현재 온도를 입력하시오 : \"))\n",
        "if temp>=25:\n",
        "  print(\"반바지를 입으세요\")\n",
        "else:\n",
        "  print(\"긴바지를 입으세요\")"
      ],
      "metadata": {
        "colab": {
          "base_uri": "https://localhost:8080/"
        },
        "id": "EhAAoubI5ayq",
        "outputId": "9bf56a0e-bfbd-4930-e686-c7385f5a95eb"
      },
      "execution_count": null,
      "outputs": [
        {
          "output_type": "stream",
          "name": "stdout",
          "text": [
            "현재 온도를 입력하시오 : 27\n",
            "반바지를 입으세요\n"
          ]
        }
      ]
    },
    {
      "cell_type": "code",
      "source": [
        "score=int(input(\"성적을 입력하시오 : \"))\n",
        "if score>=90:\n",
        "  print(\"A학점입니다.\")\n",
        "elif score>=80:\n",
        "  print(\"B학점입니다.\")\n",
        "elif score>=70:\n",
        "  print(\"C학점입니다.\")\n",
        "elif score>=60:\n",
        "  print(\"D학점입니다.\")\n",
        "else:\n",
        "  print(\"F학점입니다.\")"
      ],
      "metadata": {
        "colab": {
          "base_uri": "https://localhost:8080/"
        },
        "id": "EIm_pzoq5a16",
        "outputId": "9ac8a6b6-b47d-40d1-b461-ec515d354fa0"
      },
      "execution_count": null,
      "outputs": [
        {
          "output_type": "stream",
          "name": "stdout",
          "text": [
            "성적을 입력하시오 : 75\n",
            "C학점입니다.\n"
          ]
        }
      ]
    },
    {
      "cell_type": "code",
      "source": [
        "import random\n",
        "x=random.randint(1,100)\n",
        "y=random.randint(1,100)\n",
        "ans=int(input(str(x)+\"-\"+str(y)+\"=\"))\n",
        "if ans==x-y:\n",
        "  print(\"맞았습니다.\")\n",
        "else:\n",
        "  print(\"틀렸습니다.\")"
      ],
      "metadata": {
        "colab": {
          "base_uri": "https://localhost:8080/"
        },
        "id": "Qo7t7GU05a6y",
        "outputId": "d6b238cf-32ec-4199-b4dc-c46012e36cf1"
      },
      "execution_count": null,
      "outputs": [
        {
          "output_type": "stream",
          "name": "stdout",
          "text": [
            "98-96=2\n",
            "맞았습니다.\n"
          ]
        }
      ]
    },
    {
      "cell_type": "code",
      "source": [
        "n=int(input(\"정수를 입력하시오 : \"))\n",
        "if n%2==0 and n%3==0:\n",
        "  print(\"2와 3으로 나누어 떨어집니다.\")\n",
        "else:\n",
        "  print(\"2와 3으로 나누어 떨어지지 않습니다.\")"
      ],
      "metadata": {
        "colab": {
          "base_uri": "https://localhost:8080/"
        },
        "id": "WCLCH5gp5bJC",
        "outputId": "94f033a4-e70a-4740-943a-ff65bef3784b"
      },
      "execution_count": null,
      "outputs": [
        {
          "output_type": "stream",
          "name": "stdout",
          "text": [
            "정수를 입력하시오 : 386\n",
            "2와 3으로 나누어 떨어지지 않습니다.\n"
          ]
        }
      ]
    },
    {
      "cell_type": "code",
      "source": [
        "import random\n",
        "solution=random.randint(0,99)\n",
        "user=int(input(\"복권번호를 입력하시오 (0에서 99사이) : \"))\n",
        "digit1=solution//10\n",
        "digit2=solution%10\n",
        "u_digit1=user//10\n",
        "u_digit2=user%10\n",
        "print(\"당첨번호는\",solution,\"입니다.\")\n",
        "if(digit1==u_digit1 and digit2==u_digit2):\n",
        "  print(\"상금은 100만원입니다.\")\n",
        "elif(digit1==u_digit1\n",
        "     or digit1==u_digit2\n",
        "     or digit2==u_digit1\n",
        "     or digit2==u_digit2):\n",
        "  print(\"상금은 50만원입니다.\")\n",
        "else:\n",
        "  print(\"상금은 없습니다.\")"
      ],
      "metadata": {
        "colab": {
          "base_uri": "https://localhost:8080/"
        },
        "id": "HSU854Oa5bPD",
        "outputId": "e49c48fc-dede-4bde-c615-8ba0b59e610d"
      },
      "execution_count": null,
      "outputs": [
        {
          "output_type": "stream",
          "name": "stdout",
          "text": [
            "복권번호를 입력하시오 (0에서 99사이) : 77\n",
            "당첨번호는 35 입니다.\n",
            "상금은 없습니다.\n"
          ]
        }
      ]
    }
  ],
  "metadata": {
    "colab": {
      "collapsed_sections": [],
      "name": "5장 연습문제 1~7",
      "provenance": [],
      "include_colab_link": true
    },
    "kernelspec": {
      "display_name": "Python 3",
      "name": "python3"
    }
  },
  "nbformat": 4,
  "nbformat_minor": 0
}